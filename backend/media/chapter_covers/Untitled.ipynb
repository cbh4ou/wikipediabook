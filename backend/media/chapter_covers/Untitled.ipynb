{
 "cells": [
  {
   "cell_type": "code",
   "execution_count": 5,
   "id": "d370c2e4",
   "metadata": {},
   "outputs": [
    {
     "data": {
      "text/plain": [
       "['Markdown-Cheatsheet',\n",
       " 'Markdown-Cheatsheet',\n",
       " 'Markdown-Cheatsheet',\n",
       " 'Markdown-Cheatsheet',\n",
       " 'Markdown-Cheatsheet',\n",
       " 'Markdown-Cheatsheet']"
      ]
     },
     "execution_count": 5,
     "metadata": {},
     "output_type": "execute_result"
    }
   ],
   "source": [
    "with open(\"wiki_urls.txt\") as f:    content = [i.strip().rsplit('/', 1)[-1] for i in f.readlines()]\n",
    "content"
   ]
  },
  {
   "cell_type": "code",
   "execution_count": null,
   "id": "d0f63be3",
   "metadata": {},
   "outputs": [],
   "source": []
  }
 ],
 "metadata": {
  "kernelspec": {
   "display_name": "Python 3",
   "language": "python",
   "name": "python3"
  },
  "language_info": {
   "codemirror_mode": {
    "name": "ipython",
    "version": 3
   },
   "file_extension": ".py",
   "mimetype": "text/x-python",
   "name": "python",
   "nbconvert_exporter": "python",
   "pygments_lexer": "ipython3",
   "version": "3.8.0"
  }
 },
 "nbformat": 4,
 "nbformat_minor": 5
}
